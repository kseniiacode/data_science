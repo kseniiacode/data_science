{
 "cells": [
  {
   "cell_type": "code",
   "execution_count": 2,
   "metadata": {},
   "outputs": [],
   "source": [
    "from osgeo import gdal\n",
    "from osgeo import osr\n",
    "from osgeo import gdal_array\n",
    "from osgeo import gdalconst"
   ]
  },
  {
   "cell_type": "code",
   "execution_count": 8,
   "metadata": {},
   "outputs": [],
   "source": [
    "import sys\n",
    "sys.path.append(r'C:\\Program Files\\QGIS 3.12\\apps\\Python37\\Scripts')\n",
    "import gdal_merge as gm"
   ]
  },
  {
   "cell_type": "code",
   "execution_count": 73,
   "metadata": {
    "scrolled": true
   },
   "outputs": [],
   "source": [
    "import glob\n",
    "for i in [10, 20, 60]:\n",
    "    path = 'A:\\lab4\\S2A_MSIL2A_20190821T085601_N0213_R007_T36UUA_20190821T115206.SAFE\\GRANULE\\L2A_T36UUA_A021740_20190821T085815\\IMG_DATA\\R{}m\\\\'.format(i)\n",
    "    in1 = glob.glob(str(path)+'*B02_{}m.jp2'.format(i))\n",
    "    in2 = glob.glob(str(path)+'*B03_{}m.jp2'.format(i))\n",
    "    in3 = glob.glob(str(path)+'*B04_{}m.jp2'.format(i))\n",
    "    in4 = glob.glob(str(path)+'*_*_*8*_{}m.jp2'.format(i))\n",
    "    gm.main(['', '-separate', '-o', '1AR{}.tif'.format(i), in1[0], in2[0], in3[0], in4[0]])"
   ]
  },
  {
   "cell_type": "code",
   "execution_count": 74,
   "metadata": {},
   "outputs": [
    {
     "data": {
      "text/plain": [
       "'Driver: GTiff/GeoTIFF\\nFiles: 1AR10.tif\\nSize is 10980, 10980\\nCoordinate System is:\\nPROJCRS[\"WGS 84 / UTM zone 36N\",\\n    BASEGEOGCRS[\"WGS 84\",\\n        DATUM[\"World Geodetic System 1984\",\\n            ELLIPSOID[\"WGS 84\",6378137,298.257223563,\\n                LENGTHUNIT[\"metre\",1]]],\\n        PRIMEM[\"Greenwich\",0,\\n            ANGLEUNIT[\"degree\",0.0174532925199433]],\\n        ID[\"EPSG\",4326]],\\n    CONVERSION[\"UTM zone 36N\",\\n        METHOD[\"Transverse Mercator\",\\n            ID[\"EPSG\",9807]],\\n        PARAMETER[\"Latitude of natural origin\",0,\\n            ANGLEUNIT[\"degree\",0.0174532925199433],\\n            ID[\"EPSG\",8801]],\\n        PARAMETER[\"Longitude of natural origin\",33,\\n            ANGLEUNIT[\"degree\",0.0174532925199433],\\n            ID[\"EPSG\",8802]],\\n        PARAMETER[\"Scale factor at natural origin\",0.9996,\\n            SCALEUNIT[\"unity\",1],\\n            ID[\"EPSG\",8805]],\\n        PARAMETER[\"False easting\",500000,\\n            LENGTHUNIT[\"metre\",1],\\n            ID[\"EPSG\",8806]],\\n        PARAMETER[\"False northing\",0,\\n            LENGTHUNIT[\"metre\",1],\\n            ID[\"EPSG\",8807]]],\\n    CS[Cartesian,2],\\n        AXIS[\"(E)\",east,\\n            ORDER[1],\\n            LENGTHUNIT[\"metre\",1]],\\n        AXIS[\"(N)\",north,\\n            ORDER[2],\\n            LENGTHUNIT[\"metre\",1]],\\n    USAGE[\\n        SCOPE[\"unknown\"],\\n        AREA[\"World - N hemisphere - 30°E to 36°E - by country\"],\\n        BBOX[0,30,84,36]],\\n    ID[\"EPSG\",32636]]\\nData axis to CRS axis mapping: 1,2\\nOrigin = (300000.000000000000000,5600040.000000000000000)\\nPixel Size = (10.000000000000000,-10.000000000000000)\\nMetadata:\\n  AREA_OR_POINT=Area\\nImage Structure Metadata:\\n  INTERLEAVE=PIXEL\\nCorner Coordinates:\\nUpper Left  (  300000.000, 5600040.000) ( 30d10\\'43.20\"E, 50d31\\' 5.16\"N)\\nLower Left  (  300000.000, 5490240.000) ( 30d14\\' 9.25\"E, 49d31\\'54.23\"N)\\nUpper Right (  409800.000, 5600040.000) ( 31d43\\'36.93\"E, 50d32\\'43.20\"N)\\nLower Right (  409800.000, 5490240.000) ( 31d45\\'10.02\"E, 49d33\\'28.92\"N)\\nCenter      (  354900.000, 5545140.000) ( 30d58\\'24.85\"E, 50d 2\\'27.07\"N)\\nBand 1 Block=10980x1 Type=UInt16, ColorInterp=Gray\\nBand 2 Block=10980x1 Type=UInt16, ColorInterp=Undefined\\nBand 3 Block=10980x1 Type=UInt16, ColorInterp=Undefined\\nBand 4 Block=10980x1 Type=UInt16, ColorInterp=Undefined\\n'"
      ]
     },
     "execution_count": 74,
     "metadata": {},
     "output_type": "execute_result"
    }
   ],
   "source": [
    "gdal.Info(gdal.Open('1AR10.tif'))"
   ]
  },
  {
   "cell_type": "code",
   "execution_count": 75,
   "metadata": {},
   "outputs": [
    {
     "name": "stdout",
     "output_type": "stream",
     "text": [
      "4\n"
     ]
    }
   ],
   "source": [
    "gdalData = gdal.Open('1AR10.tif')\n",
    "print(gdalData.RasterCount)"
   ]
  },
  {
   "cell_type": "code",
   "execution_count": 81,
   "metadata": {},
   "outputs": [],
   "source": [
    "for i in [10, 20, 60]:\n",
    "    path = 'A:\\lab4\\S2A_MSIL2A_20190821T085601_N0213_R007_T36UUB_20190821T115206.SAFE\\GRANULE\\L2A_T36UUB_A021740_20190821T085815\\IMG_DATA\\R{}m\\\\'.format(i)\n",
    "    in1 = glob.glob(str(path)+'*B02_{}m.jp2'.format(i))\n",
    "    in2 = glob.glob(str(path)+'*B03_{}m.jp2'.format(i))\n",
    "    in3 = glob.glob(str(path)+'*B04_{}m.jp2'.format(i))\n",
    "    in4 = glob.glob(str(path)+'*_*_*8*_{}m.jp2'.format(i))\n",
    "    gm.main(['', '-separate', '-o', '2AR{}.tif'.format(i), in1[0], in2[0], in3[0], in4[0]])"
   ]
  },
  {
   "cell_type": "code",
   "execution_count": 82,
   "metadata": {},
   "outputs": [
    {
     "name": "stdout",
     "output_type": "stream",
     "text": [
      "4\n"
     ]
    }
   ],
   "source": [
    "gdalData = gdal.Open('2AR20.tif')\n",
    "print(gdalData.RasterCount)"
   ]
  },
  {
   "cell_type": "code",
   "execution_count": 86,
   "metadata": {
    "scrolled": true
   },
   "outputs": [],
   "source": [
    "for i in [1, 2, 6]:\n",
    "    gdal.Warp('1PAR{}0.tif'.format(i),'1AR{}0.tif'.format(i),dstSRS=\"EPSG:4326\")"
   ]
  },
  {
   "cell_type": "code",
   "execution_count": 87,
   "metadata": {
    "scrolled": true
   },
   "outputs": [],
   "source": [
    "for i in [1, 2, 6]:\n",
    "    gdal.Warp('2PAR{}0.tif'.format(i),'2AR{}0.tif'.format(i),dstSRS=\"EPSG:4326\")"
   ]
  },
  {
   "cell_type": "code",
   "execution_count": 88,
   "metadata": {
    "scrolled": true
   },
   "outputs": [
    {
     "data": {
      "text/plain": [
       "<osgeo.gdal.Dataset; proxy of <Swig Object of type 'GDALDatasetShadow *' at 0x0000022E9E1C3180> >"
      ]
     },
     "execution_count": 88,
     "metadata": {},
     "output_type": "execute_result"
    }
   ],
   "source": [
    "gdal.Warp('AllInOne.tif', ['1PAR10.tif', '1PAR20.tif', '1PAR60.tif', '2PAR10.tif', '2PAR20.tif', '2PAR60.tif'])"
   ]
  },
  {
   "cell_type": "code",
   "execution_count": 93,
   "metadata": {},
   "outputs": [],
   "source": [
    "gdal.Warp('WrapedImg.tif', 'AllInOne.tif', format = 'GTiff', cutlineDSName='Kyiv_regions.shp', cutlineLayer = 'extent',\n",
    "              cropToCutline = True, dstNodata = 0)"
   ]
  },
  {
   "cell_type": "code",
   "execution_count": 94,
   "metadata": {},
   "outputs": [],
   "source": [
    "import numpy as np\n",
    "obj = (gdal.Open('WrapedImg.tif')).ReadAsArray().astype(np.float32)"
   ]
  },
  {
   "cell_type": "code",
   "execution_count": 23,
   "metadata": {},
   "outputs": [
    {
     "name": "stdout",
     "output_type": "stream",
     "text": [
      "[[[0. 0. 0. ... 0. 0. 0.]\n",
      "  [0. 0. 0. ... 0. 0. 0.]\n",
      "  [0. 0. 0. ... 0. 0. 0.]\n",
      "  ...\n",
      "  [0. 0. 0. ... 0. 0. 0.]\n",
      "  [0. 0. 0. ... 0. 0. 0.]\n",
      "  [0. 0. 0. ... 0. 0. 0.]]\n",
      "\n",
      " [[0. 0. 0. ... 0. 0. 0.]\n",
      "  [0. 0. 0. ... 0. 0. 0.]\n",
      "  [0. 0. 0. ... 0. 0. 0.]\n",
      "  ...\n",
      "  [0. 0. 0. ... 0. 0. 0.]\n",
      "  [0. 0. 0. ... 0. 0. 0.]\n",
      "  [0. 0. 0. ... 0. 0. 0.]]\n",
      "\n",
      " [[0. 0. 0. ... 0. 0. 0.]\n",
      "  [0. 0. 0. ... 0. 0. 0.]\n",
      "  [0. 0. 0. ... 0. 0. 0.]\n",
      "  ...\n",
      "  [0. 0. 0. ... 0. 0. 0.]\n",
      "  [0. 0. 0. ... 0. 0. 0.]\n",
      "  [0. 0. 0. ... 0. 0. 0.]]\n",
      "\n",
      " [[0. 0. 0. ... 0. 0. 0.]\n",
      "  [0. 0. 0. ... 0. 0. 0.]\n",
      "  [0. 0. 0. ... 0. 0. 0.]\n",
      "  ...\n",
      "  [0. 0. 0. ... 0. 0. 0.]\n",
      "  [0. 0. 0. ... 0. 0. 0.]\n",
      "  [0. 0. 0. ... 0. 0. 0.]]]\n"
     ]
    }
   ],
   "source": [
    "print(obj)"
   ]
  },
  {
   "cell_type": "code",
   "execution_count": 26,
   "metadata": {},
   "outputs": [],
   "source": [
    "obj1 = (gdal.Open(in1[0])).ReadAsArray().astype(np.float32)"
   ]
  },
  {
   "cell_type": "code",
   "execution_count": 27,
   "metadata": {},
   "outputs": [
    {
     "name": "stdout",
     "output_type": "stream",
     "text": [
      "[[399. 406. 399. ... 278. 335. 334.]\n",
      " [422. 471. 445. ... 279. 304. 271.]\n",
      " [440. 471. 452. ... 226. 233. 197.]\n",
      " ...\n",
      " [492. 491. 458. ... 228. 198. 237.]\n",
      " [466. 469. 468. ... 243. 234. 234.]\n",
      " [443. 462. 470. ... 214. 221. 243.]]\n"
     ]
    }
   ],
   "source": [
    "print(obj1)"
   ]
  },
  {
   "cell_type": "code",
   "execution_count": 30,
   "metadata": {},
   "outputs": [],
   "source": [
    "obj2 = gdal.Open('2AR10.tif').ReadAsArray().astype(np.float32)"
   ]
  },
  {
   "cell_type": "code",
   "execution_count": 31,
   "metadata": {},
   "outputs": [
    {
     "data": {
      "text/plain": [
       "array([[[ 399.,  406.,  399., ...,  278.,  335.,  334.],\n",
       "        [ 422.,  471.,  445., ...,  279.,  304.,  271.],\n",
       "        [ 440.,  471.,  452., ...,  226.,  233.,  197.],\n",
       "        ...,\n",
       "        [ 492.,  491.,  458., ...,  228.,  198.,  237.],\n",
       "        [ 466.,  469.,  468., ...,  243.,  234.,  234.],\n",
       "        [ 443.,  462.,  470., ...,  214.,  221.,  243.]],\n",
       "\n",
       "       [[ 762.,  769.,  791., ...,  534.,  557.,  583.],\n",
       "        [ 733.,  784.,  793., ...,  558.,  541.,  506.],\n",
       "        [ 745.,  784.,  763., ...,  506.,  442.,  385.],\n",
       "        ...,\n",
       "        [ 711.,  720.,  709., ...,  516.,  532.,  523.],\n",
       "        [ 680.,  688.,  714., ...,  536.,  578.,  593.],\n",
       "        [ 667.,  677.,  677., ...,  561.,  644.,  582.]],\n",
       "\n",
       "       [[ 586.,  631.,  664., ...,  514.,  702.,  740.],\n",
       "        [ 639.,  722.,  723., ...,  529.,  692.,  617.],\n",
       "        [ 690.,  743.,  694., ...,  486.,  541.,  462.],\n",
       "        ...,\n",
       "        [ 855.,  869.,  869., ...,  400.,  418.,  438.],\n",
       "        [ 848.,  857.,  836., ...,  436.,  451.,  468.],\n",
       "        [ 829.,  835.,  822., ...,  435.,  448.,  493.]],\n",
       "\n",
       "       [[2717., 2601., 2492., ..., 3452., 2631., 2345.],\n",
       "        [2613., 2507., 2399., ..., 3351., 2412., 2187.],\n",
       "        [2454., 2381., 2445., ..., 3031., 2227., 2193.],\n",
       "        ...,\n",
       "        [1474., 1456., 1416., ..., 3404., 3404., 3276.],\n",
       "        [1440., 1478., 1442., ..., 3458., 3650., 3610.],\n",
       "        [1412., 1432., 1414., ..., 3234., 3306., 2962.]]], dtype=float32)"
      ]
     },
     "execution_count": 31,
     "metadata": {},
     "output_type": "execute_result"
    }
   ],
   "source": [
    "obj2"
   ]
  },
  {
   "cell_type": "code",
   "execution_count": null,
   "metadata": {},
   "outputs": [],
   "source": [
    "def normalize(array):\n",
    "    \"\"\"Normalizes numpy arrays into scale 0.0 - 1.0\"\"\"\n",
    "    array_min, array_max = array.min(), array.max()\n",
    "    return ((array - array_min)/(array_max - array_min))\n"
   ]
  },
  {
   "cell_type": "code",
   "execution_count": null,
   "metadata": {},
   "outputs": [],
   "source": []
  }
 ],
 "metadata": {
  "kernelspec": {
   "display_name": "Python 3",
   "language": "python",
   "name": "python3"
  },
  "language_info": {
   "codemirror_mode": {
    "name": "ipython",
    "version": 3
   },
   "file_extension": ".py",
   "mimetype": "text/x-python",
   "name": "python",
   "nbconvert_exporter": "python",
   "pygments_lexer": "ipython3",
   "version": "3.7.6"
  }
 },
 "nbformat": 4,
 "nbformat_minor": 4
}
